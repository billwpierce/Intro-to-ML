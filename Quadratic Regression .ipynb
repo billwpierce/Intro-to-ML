{
 "cells": [
  {
   "cell_type": "markdown",
   "metadata": {},
   "source": [
    "## Quadratic Regression with Numpy functions\n",
    "\n",
    "Using built-in numpy functions is the simplest way to do quadratic and polynomial regression.\n",
    "\n",
    "First, we import the numpy, sklearn, and matplotlib libraries required."
   ]
  },
  {
   "cell_type": "code",
   "execution_count": 7,
   "metadata": {
    "collapsed": true
   },
   "outputs": [],
   "source": [
    "import numpy.random # for generating a noisy data set\n",
    "from sklearn import linear_model # model fitting/training\n",
    "from sklearn.preprocessing import PolynomialFeatures\n",
    "import matplotlib.pyplot # for plotting in general"
   ]
  },
  {
   "cell_type": "markdown",
   "metadata": {},
   "source": [
    "Next, we define the range of X values for our function (-10 — 10), and we set the number of inputs (50)."
   ]
  },
  {
   "cell_type": "code",
   "execution_count": 8,
   "metadata": {
    "collapsed": true
   },
   "outputs": [],
   "source": [
    "MIN_X = -10\n",
    "MAX_X = 10\n",
    "NUM_INPUTS = 50"
   ]
  },
  {
   "cell_type": "markdown",
   "metadata": {},
   "source": [
    "### Data Generation\n",
    "\n",
    "Next, we generate the data that we're going to use. We're going to need some noise to make our data slightly more random, we'll need the array of x values that we are using, and the corresponding y values."
   ]
  },
  {
   "cell_type": "code",
   "execution_count": 9,
   "metadata": {
    "collapsed": true
   },
   "outputs": [],
   "source": [
    "# Generate some normally distributed noise\n",
    "noise = numpy.random.normal(size=NUM_INPUTS)\n",
    "\n",
    "### 1 feature (2D)\n",
    "\n",
    "# randomly pick 50 numbers\n",
    "x1 = numpy.random.uniform(low=MIN_X, high=MAX_X, size=(NUM_INPUTS, 1))\n",
    "\n",
    "# x needs to be an array of arrays for the model fit function, but sometimes we also need it as a list.\n",
    "# The [:,0] slicing pulls out the values into a one-dimensional list\n",
    "x1_1d = x1[:,0]\n",
    "\n",
    "# y = 0.7x^2 - 0.4x + 1.5\n",
    "y1_2 = 0.7 * x1_1d * x1_1d - 4 * x1_1d + 1.5 + noise"
   ]
  },
  {
   "cell_type": "markdown",
   "metadata": {},
   "source": [
    "Please note how the y data is generate with the noise added on the end to make it slightly off of the perfect fit line."
   ]
  },
  {
   "cell_type": "markdown",
   "metadata": {},
   "source": [
    "### Training our Model\n",
    "\n",
    "Next, we use the numpy.polyfit function to fit a best-fit line to our data."
   ]
  },
  {
   "cell_type": "code",
   "execution_count": 10,
   "metadata": {
    "collapsed": true
   },
   "outputs": [],
   "source": [
    "modelQuad = numpy.polyfit(x1_1d, y1_2, 2)"
   ]
  },
  {
   "cell_type": "markdown",
   "metadata": {},
   "source": [
    "We then print out the coefficients, which should be close to 0.7, -4, and 1.4."
   ]
  },
  {
   "cell_type": "code",
   "execution_count": 11,
   "metadata": {},
   "outputs": [
    {
     "name": "stdout",
     "output_type": "stream",
     "text": [
      "2D Data: ^2 Coefficient: 0.695444935429038  ^1 Coefficient: -3.9937466725081654 Intercept: 1.79552968350519\n"
     ]
    }
   ],
   "source": [
    "print('2D Data: ^2 Coefficient: {0}  ^1 Coefficient: {1} Intercept: {2}'.format(modelQuad[0], modelQuad[1], modelQuad[2]))"
   ]
  },
  {
   "cell_type": "markdown",
   "metadata": {},
   "source": [
    "### Plotting the data using matplotlib\n",
    "\n",
    "We then plot the data using matplotlib. First, we add the points to our plot."
   ]
  },
  {
   "cell_type": "code",
   "execution_count": 13,
   "metadata": {},
   "outputs": [
    {
     "data": {
      "text/plain": [
       "<matplotlib.collections.PathCollection at 0x1089e4320>"
      ]
     },
     "execution_count": 13,
     "metadata": {},
     "output_type": "execute_result"
    }
   ],
   "source": [
    "fig = matplotlib.pyplot.figure(1)\n",
    "fig.suptitle('2D Data and Best-Fit Line')\n",
    "matplotlib.pyplot.xlabel('x')\n",
    "matplotlib.pyplot.ylabel('y')\n",
    "\n",
    "matplotlib.pyplot.scatter(x1_1d, y1_2)"
   ]
  },
  {
   "cell_type": "markdown",
   "metadata": {},
   "source": [
    "Then we plot the best-fit line."
   ]
  },
  {
   "cell_type": "code",
   "execution_count": 14,
   "metadata": {},
   "outputs": [
    {
     "data": {
      "text/plain": [
       "[<matplotlib.lines.Line2D at 0x1088c4668>]"
      ]
     },
     "execution_count": 14,
     "metadata": {},
     "output_type": "execute_result"
    }
   ],
   "source": [
    "X = numpy.linspace(MIN_X, MAX_X)\n",
    "Y = numpy.polyval(modelQuad, X)\n",
    "matplotlib.pyplot.plot(X, Y)"
   ]
  },
  {
   "cell_type": "markdown",
   "metadata": {},
   "source": [
    "Finally, we reveal the plot!"
   ]
  },
  {
   "cell_type": "code",
   "execution_count": 15,
   "metadata": {},
   "outputs": [
    {
     "data": {
      "image/png": "[encoded data removed]",
      "text/plain": [
       "<matplotlib.figure.Figure at 0x1088c4f98>"
      ]
     },
     "metadata": {},
     "output_type": "display_data"
    }
   ],
   "source": [
    "matplotlib.pyplot.show()"
   ]
  },
  {
   "cell_type": "markdown",
   "metadata": {},
   "source": [
    "Voila! The best fit line, at least using numpy.polyfit, acts as a great way to analyze and run OLS regression on quadratic and general polynomial data!"
   ]
  },
  {
   "cell_type": "code",
   "execution_count": null,
   "metadata": {
    "collapsed": true
   },
   "outputs": [],
   "source": []
  }
 ],
 "metadata": {
  "kernelspec": {
   "display_name": "Python 3",
   "language": "python",
   "name": "python3"
  },
  "language_info": {
   "codemirror_mode": {
    "name": "ipython",
    "version": 3
   },
   "file_extension": ".py",
   "mimetype": "text/x-python",
   "name": "python",
   "nbconvert_exporter": "python",
   "pygments_lexer": "ipython3",
   "version": "3.6.2"
  }
 },
 "nbformat": 4,
 "nbformat_minor": 2
}
