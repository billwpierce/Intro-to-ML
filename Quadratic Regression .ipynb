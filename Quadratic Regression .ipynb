{
 "cells": [
  {
   "cell_type": "markdown",
   "metadata": {},
   "source": [
    "# Quadratic Regression"
   ]
  },
  {
   "cell_type": "markdown",
   "metadata": {},
   "source": [
    "## Quadratic Regression with Numpy functions\n",
    "\n",
    "Using built-in numpy functions is the simplest way to do quadratic and polynomial regression.\n",
    "\n",
    "First, we import the numpy, sklearn, and matplotlib libraries required."
   ]
  },
  {
   "cell_type": "code",
   "execution_count": 1,
   "metadata": {
    "collapsed": true
   },
   "outputs": [],
   "source": [
    "import numpy.random # for generating a noisy data set\n",
    "from sklearn import linear_model # model fitting/training\n",
    "from sklearn.preprocessing import PolynomialFeatures\n",
    "import matplotlib.pyplot # for plotting in general"
   ]
  },
  {
   "cell_type": "markdown",
   "metadata": {},
   "source": [
    "Next, we define the range of X values for our function (-10 — 10), and we set the number of inputs (50)."
   ]
  },
  {
   "cell_type": "code",
   "execution_count": 2,
   "metadata": {
    "collapsed": true
   },
   "outputs": [],
   "source": [
    "MIN_X = -10\n",
    "MAX_X = 10\n",
    "NUM_INPUTS = 50"
   ]
  },
  {
   "cell_type": "markdown",
   "metadata": {},
   "source": [
    "### Data Generation\n",
    "\n",
    "Next, we generate the data that we're going to use. We're going to need some noise to make our data slightly more random, we'll need the array of x values that we are using, and the corresponding y values."
   ]
  },
  {
   "cell_type": "code",
   "execution_count": 3,
   "metadata": {
    "collapsed": true
   },
   "outputs": [],
   "source": [
    "# Generate some normally distributed noise\n",
    "noise = numpy.random.normal(size=NUM_INPUTS)\n",
    "\n",
    "### 1 feature (2D)\n",
    "\n",
    "# randomly pick 50 numbers\n",
    "x1 = numpy.random.uniform(low=MIN_X, high=MAX_X, size=(NUM_INPUTS, 1))\n",
    "\n",
    "# x needs to be an array of arrays for the model fit function, but sometimes we also need it as a list.\n",
    "# The [:,0] slicing pulls out the values into a one-dimensional list\n",
    "x1_1d = x1[:,0]\n",
    "\n",
    "# y = 0.7x^2 - 0.4x + 1.5\n",
    "y1_2 = 0.7 * x1_1d * x1_1d - 4 * x1_1d + 1.5 + noise"
   ]
  },
  {
   "cell_type": "markdown",
   "metadata": {},
   "source": [
    "Please note how the y data is generate with the noise added on the end to make it slightly off of the perfect fit line."
   ]
  },
  {
   "cell_type": "markdown",
   "metadata": {},
   "source": [
    "### Training our Model\n",
    "\n",
    "Next, we use the numpy.polyfit function to fit a best-fit line to our data."
   ]
  },
  {
   "cell_type": "code",
   "execution_count": 4,
   "metadata": {
    "collapsed": true
   },
   "outputs": [],
   "source": [
    "modelQuad = numpy.polyfit(x1_1d, y1_2, 2)"
   ]
  },
  {
   "cell_type": "markdown",
   "metadata": {},
   "source": [
    "We then print out the coefficients, which should be close to 0.7, -4, and 1.4."
   ]
  },
  {
   "cell_type": "code",
   "execution_count": 5,
   "metadata": {},
   "outputs": [
    {
     "name": "stdout",
     "output_type": "stream",
     "text": [
      "2D Data: ^2 Coefficient: 0.7057737143253422  ^1 Coefficient: -3.9972540359149376 Intercept: 1.3798915035824966\n"
     ]
    }
   ],
   "source": [
    "print('2D Data: ^2 Coefficient: {0}  ^1 Coefficient: {1} Intercept: {2}'.format(modelQuad[0], modelQuad[1], modelQuad[2]))"
   ]
  },
  {
   "cell_type": "markdown",
   "metadata": {},
   "source": [
    "### Plotting the data using matplotlib\n",
    "\n",
    "We then plot the data using matplotlib. First, we add the points to our plot."
   ]
  },
  {
   "cell_type": "code",
   "execution_count": 6,
   "metadata": {},
   "outputs": [
    {
     "data": {
      "text/plain": [
       "<matplotlib.collections.PathCollection at 0x1089da518>"
      ]
     },
     "execution_count": 6,
     "metadata": {},
     "output_type": "execute_result"
    }
   ],
   "source": [
    "fig = matplotlib.pyplot.figure(1)\n",
    "fig.suptitle('2D Data and Numpy Best-Fit Line')\n",
    "matplotlib.pyplot.xlabel('x')\n",
    "matplotlib.pyplot.ylabel('y')\n",
    "\n",
    "matplotlib.pyplot.scatter(x1_1d, y1_2)"
   ]
  },
  {
   "cell_type": "markdown",
   "metadata": {},
   "source": [
    "Then we plot the best-fit line."
   ]
  },
  {
   "cell_type": "code",
   "execution_count": 7,
   "metadata": {},
   "outputs": [
    {
     "data": {
      "text/plain": [
       "[<matplotlib.lines.Line2D at 0x1088c0c18>]"
      ]
     },
     "execution_count": 7,
     "metadata": {},
     "output_type": "execute_result"
    }
   ],
   "source": [
    "X = numpy.linspace(MIN_X, MAX_X)\n",
    "Y = numpy.polyval(modelQuad, X)\n",
    "matplotlib.pyplot.plot(X, Y)"
   ]
  },
  {
   "cell_type": "markdown",
   "metadata": {},
   "source": [
    "Finally, we reveal the plot!"
   ]
  },
  {
   "cell_type": "code",
   "execution_count": 8,
   "metadata": {},
   "outputs": [
    {
     "data": {
      "image/png": "[encoded data removed]",
      "text/plain": [
       "<matplotlib.figure.Figure at 0x1088c0c88>"
      ]
     },
     "metadata": {},
     "output_type": "display_data"
    }
   ],
   "source": [
    "matplotlib.pyplot.show()"
   ]
  },
  {
   "cell_type": "markdown",
   "metadata": {},
   "source": [
    "Voila! The best fit line, at least using numpy.polyfit, acts as a great way to analyze and run OLS regression on quadratic and general polynomial data!"
   ]
  },
  {
   "cell_type": "markdown",
   "metadata": {
    "collapsed": true
   },
   "source": [
    "## Quadratic Regression with a linear model\n",
    "\n",
    "Let's assume we could only use a linear model. How would we then run quadratic regression?\n",
    "\n",
    "Well, I found a great Stack Overflow post Here: https://stackoverflow.com/questions/33710829/linear-regression-with-quadratic-terms. Essentially, this post talks about using the built it linear regression for a 2d plane, whereas instead of accounting for 2 X variables, you assume one of those variables is X and one is X^2. That way, it will generate coefficients that solve for Y based on the two variables, however you will still be able to use a linear regression model.\n",
    "\n",
    "First, we must create a linear regression model to examine our data with."
   ]
  },
  {
   "cell_type": "code",
   "execution_count": 9,
   "metadata": {
    "collapsed": true
   },
   "outputs": [],
   "source": [
    "model2d = linear_model.LinearRegression()"
   ]
  },
  {
   "cell_type": "markdown",
   "metadata": {},
   "source": [
    "Next we create a numpy array of the two powers of X we will be using for our variables (1 & 2), and we fit our model as a 2d plane with X & X^2."
   ]
  },
  {
   "cell_type": "code",
   "execution_count": 10,
   "metadata": {},
   "outputs": [
    {
     "name": "stderr",
     "output_type": "stream",
     "text": [
      "/Library/Frameworks/Python.framework/Versions/3.6/lib/python3.6/site-packages/scipy/linalg/basic.py:1018: RuntimeWarning: internal gelsd driver lwork query error, required iwork dimension not returned. This is likely the result of LAPACK bug 0038, fixed in LAPACK 3.2.2 (released July 21, 2010). Falling back to 'gelss' driver.\n",
      "  warnings.warn(mesg, RuntimeWarning)\n"
     ]
    },
    {
     "data": {
      "text/plain": [
       "LinearRegression(copy_X=True, fit_intercept=True, n_jobs=1, normalize=False)"
      ]
     },
     "execution_count": 10,
     "metadata": {},
     "output_type": "execute_result"
    }
   ],
   "source": [
    "p = numpy.array([1, 2])\n",
    "model2d.fit(x1 ** p, y1_2)"
   ]
  },
  {
   "cell_type": "markdown",
   "metadata": {},
   "source": [
    "By fitting the model with x1^p, which returns a 2d dimensional array (where the first column is x1 and the second is x1^2), the model assumes it's working with 3 dimensional data. This is not the case, and the coefficients it thinks it is using for 3d modelling is actually for a quadratic function."
   ]
  },
  {
   "cell_type": "code",
   "execution_count": 11,
   "metadata": {},
   "outputs": [
    {
     "name": "stdout",
     "output_type": "stream",
     "text": [
      "2D Data: Intercept: 1.3798915035824741  Coefficients: [-3.99725404  0.70577371]\n",
      "[0.70577371432534286, -3.9972540359149429, 1.3798915035824741]\n"
     ]
    }
   ],
   "source": [
    "print('2D Data: Intercept: {0}  Coefficients: {1}'.format(model2d.intercept_, model2d.coef_))\n",
    "quadcoef = list(reversed(model2d.coef_)) + [model2d.intercept_]\n",
    "print(quadcoef)"
   ]
  },
  {
   "cell_type": "markdown",
   "metadata": {},
   "source": [
    "Here, you can see that although it's right about the intercepts and the coefficients, we need to do a bit of array analysis (found via a simple stack overflow/google search) to convert it into the 3 coefficient list needed by numpy.polyval.\n",
    "\n",
    "\n",
    "\n",
    "Next, we can plot our points on a new matplotlib."
   ]
  },
  {
   "cell_type": "code",
   "execution_count": 12,
   "metadata": {},
   "outputs": [
    {
     "data": {
      "text/plain": [
       "<matplotlib.collections.PathCollection at 0x108b95128>"
      ]
     },
     "execution_count": 12,
     "metadata": {},
     "output_type": "execute_result"
    }
   ],
   "source": [
    "skfig = matplotlib.pyplot.figure(0)\n",
    "skfig.suptitle('2D Data and Linear Regression Best-Fit Line')\n",
    "matplotlib.pyplot.xlabel('x')\n",
    "matplotlib.pyplot.ylabel('y')\n",
    "\n",
    "# put the generated points on the graph\n",
    "matplotlib.pyplot.scatter(x1_1d, y1_2)"
   ]
  },
  {
   "cell_type": "markdown",
   "metadata": {},
   "source": [
    "We then can plot the best fit line by running polyfit on the `quadcoef` variable created earlier."
   ]
  },
  {
   "cell_type": "code",
   "execution_count": 13,
   "metadata": {},
   "outputs": [
    {
     "data": {
      "text/plain": [
       "[<matplotlib.lines.Line2D at 0x108ac8da0>]"
      ]
     },
     "execution_count": 13,
     "metadata": {},
     "output_type": "execute_result"
    }
   ],
   "source": [
    "X = numpy.linspace(MIN_X, MAX_X)\n",
    "Y = numpy.polyval(quadcoef, X)\n",
    "matplotlib.pyplot.plot(X, Y)"
   ]
  },
  {
   "cell_type": "code",
   "execution_count": 14,
   "metadata": {},
   "outputs": [
    {
     "data": {
      "image/png": "[encoded data removed]",
      "text/plain": [
       "<matplotlib.figure.Figure at 0x1089f15c0>"
      ]
     },
     "metadata": {},
     "output_type": "display_data"
    }
   ],
   "source": [
    "matplotlib.pyplot.show()"
   ]
  },
  {
   "cell_type": "markdown",
   "metadata": {},
   "source": [
    "It works! As far as I can tell it is just as accurate as the previous model, though I'd have to learn how to extract the R value for a more detailed description. "
   ]
  }
 ],
 "metadata": {
  "kernelspec": {
   "display_name": "Python 3",
   "language": "python",
   "name": "python3"
  },
  "language_info": {
   "codemirror_mode": {
    "name": "ipython",
    "version": 3
   },
   "file_extension": ".py",
   "mimetype": "text/x-python",
   "name": "python",
   "nbconvert_exporter": "python",
   "pygments_lexer": "ipython3",
   "version": "3.6.2"
  }
 },
 "nbformat": 4,
 "nbformat_minor": 2
}
