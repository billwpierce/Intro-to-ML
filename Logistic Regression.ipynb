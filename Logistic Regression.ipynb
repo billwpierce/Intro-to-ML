{
 "cells": [
  {
   "cell_type": "markdown",
   "metadata": {},
   "source": [
    "## Logistic Regression\n",
    "### from Carl Shan and Jen Selby"
   ]
  },
  {
   "cell_type": "code",
   "execution_count": 1,
   "metadata": {
    "collapsed": true
   },
   "outputs": [],
   "source": [
    "import numpy.random\n",
    "from sklearn import linear_model\n",
    "import matplotlib.pyplot"
   ]
  },
  {
   "cell_type": "code",
   "execution_count": 2,
   "metadata": {
    "collapsed": true
   },
   "outputs": [],
   "source": [
    "NUM_INPUTS = 50\n",
    "PLANT_A_AVG_HEIGHT = 60.0\n",
    "PLANT_A_AVG_WIDTH = 8.0\n",
    "PLANT_B_AVG_HEIGHT = 58.0\n",
    "PLANT_B_AVG_WIDTH = 10.0\n",
    "PLANT_C_AVG_HEIGHT = 50.0\n",
    "PLANT_C_AVG_WIDTH = 5.0"
   ]
  },
  {
   "cell_type": "code",
   "execution_count": 3,
   "metadata": {
    "collapsed": true
   },
   "outputs": [],
   "source": [
    "plantA_heights = numpy.random.normal(loc=PLANT_A_AVG_HEIGHT, size=NUM_INPUTS)\n",
    "plantA_widths = numpy.random.normal(loc=PLANT_A_AVG_WIDTH, size=NUM_INPUTS)\n",
    "\n",
    "plantB_heights = numpy.random.normal(loc=PLANT_B_AVG_HEIGHT, size=NUM_INPUTS)\n",
    "plantB_widths = numpy.random.normal(loc=PLANT_B_AVG_WIDTH, size=NUM_INPUTS)\n",
    "\n",
    "plantC_heights = numpy.random.normal(loc=PLANT_C_AVG_HEIGHT, size=NUM_INPUTS)\n",
    "plantC_widths = numpy.random.normal(loc=PLANT_C_AVG_WIDTH, size=NUM_INPUTS)"
   ]
  },
  {
   "cell_type": "code",
   "execution_count": 10,
   "metadata": {
    "collapsed": true
   },
   "outputs": [],
   "source": [
    "plant_heights = list(numpy.append(list(numpy.append(plantA_heights, plantB_heights)), plantC_heights))"
   ]
  },
  {
   "cell_type": "code",
   "execution_count": 12,
   "metadata": {
    "collapsed": true
   },
   "outputs": [],
   "source": [
    "plant_widths = list(numpy.append(list(numpy.append(plantA_widths, plantB_widths)), plantC_widths))"
   ]
  },
  {
   "cell_type": "code",
   "execution_count": 14,
   "metadata": {
    "collapsed": true
   },
   "outputs": [],
   "source": [
    "plant_inputs = list(zip(plant_heights, plant_widths))"
   ]
  },
  {
   "cell_type": "code",
   "execution_count": 15,
   "metadata": {},
   "outputs": [
    {
     "data": {
      "text/plain": [
       "[(60.990177086910862, 8.6666013582916648),\n",
       " (59.245982678847035, 7.5025758686152599),\n",
       " (59.450523447925661, 5.8285605181688505),\n",
       " (58.359269424120399, 8.191697758292614),\n",
       " (61.542845113045139, 9.6169612827208262),\n",
       " (58.701690145605717, 8.5405493503632641),\n",
       " (57.513978816955756, 10.454353065694054),\n",
       " (61.426823268197992, 9.0253844064381532),\n",
       " (59.729149140044427, 8.8964264435085934),\n",
       " (59.396916915414657, 10.336912328610762),\n",
       " (59.090938117507413, 6.9230895169281883),\n",
       " (59.336926044144889, 10.432376237922458),\n",
       " (61.465578404454881, 6.606407197172973),\n",
       " (59.701805976186634, 6.3205513181657436),\n",
       " (61.265028132224245, 5.0357634693680637),\n",
       " (59.250063203835623, 8.8754890331196474),\n",
       " (59.347388035282528, 9.1745788758824496),\n",
       " (58.507715981986941, 8.8789470610855226),\n",
       " (60.595066512238816, 6.3445539622770273),\n",
       " (58.816045566266432, 6.3137310868355092),\n",
       " (60.946921025042599, 7.3851332586031795),\n",
       " (60.517792824903005, 7.7591431974782648),\n",
       " (61.309300352260124, 7.7627426287021599),\n",
       " (60.544834129552825, 8.1391439787473256),\n",
       " (60.611018067332964, 6.9517279138012658),\n",
       " (58.799543801807097, 8.1241031746603429),\n",
       " (58.8956811653674, 7.087612232476193),\n",
       " (59.608320734092963, 7.6931736026233546),\n",
       " (60.052338786372808, 6.7577317640879082),\n",
       " (61.507913901434044, 8.5021656795205729),\n",
       " (59.772027988601714, 7.9603228068406793),\n",
       " (60.549875425765187, 7.5750696480780899),\n",
       " (59.819359507931715, 5.1200282543622517),\n",
       " (60.980051190306035, 7.2869321495971411),\n",
       " (60.737336337378039, 6.9645188112063723),\n",
       " (58.649386726198593, 6.4911864684351359),\n",
       " (62.594829682685827, 7.5875463282251516),\n",
       " (58.107114915492375, 8.3924465466130425),\n",
       " (60.114717901530547, 7.065224838795694),\n",
       " (60.557795400753591, 7.7863506108432325),\n",
       " (59.343229132478065, 7.2598096641552781),\n",
       " (59.564425611070199, 9.4179917854882316),\n",
       " (59.288147309055574, 8.6572760474444195),\n",
       " (60.399222973379878, 6.9125552545434612),\n",
       " (59.931248628860175, 9.1306259629249134),\n",
       " (60.933088200462407, 8.0189456657182774),\n",
       " (59.380605265747519, 9.067011081112339),\n",
       " (60.274554807482389, 10.12575281659192),\n",
       " (59.857107633487345, 8.8262452434101526),\n",
       " (59.63540918090299, 8.9633235828591431),\n",
       " (58.959524187681765, 10.660882176495537),\n",
       " (58.363627228787763, 10.512860644725803),\n",
       " (58.540802309763912, 8.4028657669785538),\n",
       " (57.752139645177181, 10.693047118638262),\n",
       " (57.397861238168666, 9.6627845160469708),\n",
       " (57.500324659635631, 9.9315167732037235),\n",
       " (56.595669496094764, 10.621715446631075),\n",
       " (58.354376869843172, 10.447227400328975),\n",
       " (57.953276211774487, 9.955805854508144),\n",
       " (57.517688907245542, 8.7818903797757955),\n",
       " (57.886073110797575, 8.8354565928492814),\n",
       " (58.234861383240954, 10.684025178443347),\n",
       " (58.898442131006441, 10.415331200113675),\n",
       " (58.535477631442923, 11.239685974198434),\n",
       " (57.950708748938773, 9.5853698044416191),\n",
       " (56.227710177588278, 9.877472515656601),\n",
       " (58.084958441861666, 10.264966258960742),\n",
       " (58.746381382790098, 8.2023957351484089),\n",
       " (56.852179169823494, 10.494561565764004),\n",
       " (58.472874930173617, 9.9826384000124246),\n",
       " (58.411453259884112, 10.512929243508678),\n",
       " (59.027659798143816, 11.08618302235252),\n",
       " (60.456882447224167, 9.031371953028529),\n",
       " (58.194102557222081, 9.1178955470845349),\n",
       " (57.303349963772916, 9.9649670221538624),\n",
       " (56.139965906384113, 8.0746292725277655),\n",
       " (58.997062272906767, 8.299643228433224),\n",
       " (58.142535546722307, 10.228858171583301),\n",
       " (59.633159588294646, 9.5556517070185691),\n",
       " (58.162980038159773, 9.8140432038650314),\n",
       " (57.664775257032737, 10.115049164489632),\n",
       " (58.386102629792958, 10.405556185862711),\n",
       " (56.972524720206643, 9.7948323362144905),\n",
       " (57.239158363017147, 8.3553719679525642),\n",
       " (59.130352589001355, 8.4207373039987132),\n",
       " (57.537710384562125, 9.4180138466140182),\n",
       " (59.335422963991988, 11.200224080515849),\n",
       " (57.304195229595919, 11.149058301298387),\n",
       " (57.547632442462323, 11.210305377084056),\n",
       " (57.18821436388437, 10.105401463319271),\n",
       " (57.628310185894534, 8.1408505578242103),\n",
       " (57.631199009965997, 8.4529395616329275),\n",
       " (57.039742775240178, 9.2391539646573708),\n",
       " (57.824398386004844, 10.072084614363046),\n",
       " (59.042078809839012, 10.698733808137282),\n",
       " (58.00587965039891, 10.49748495930784),\n",
       " (58.406077340567279, 9.3090598744550999),\n",
       " (58.111276922834236, 10.659665619357185),\n",
       " (56.630350546580672, 10.903020554347183),\n",
       " (56.882426139241225, 10.474943396990119),\n",
       " (51.238899362873312, 2.7823814538549927),\n",
       " (49.191724252220489, 4.8492955719632294),\n",
       " (50.56731919398554, 5.413630558897994),\n",
       " (50.105996134222437, 4.6337725263162968),\n",
       " (50.851167903794639, 5.7143496823937703),\n",
       " (50.94314008105092, 4.5728912484892188),\n",
       " (49.532062032318812, 5.8413094434316308),\n",
       " (49.380110001413733, 5.9879627452945838),\n",
       " (50.89688356964426, 6.6502853403406625),\n",
       " (50.654084987780472, 4.3334555562097421),\n",
       " (49.712729054588486, 4.1426011263077065),\n",
       " (48.845332372445014, 4.8111760527046208),\n",
       " (50.732288465516561, 4.9671814659020175),\n",
       " (50.613454838715683, 2.6097795454554413),\n",
       " (51.973931054021293, 6.1220636897830447),\n",
       " (47.610843758941328, 5.5075123403167616),\n",
       " (50.335903650937091, 4.8973228451658022),\n",
       " (50.653250625516662, 5.0691043141721082),\n",
       " (49.833259208999486, 4.3963851310238065),\n",
       " (49.85720873924592, 3.9654218614022501),\n",
       " (49.502794324589395, 6.2845825981321335),\n",
       " (50.704809957347734, 4.3306162322872233),\n",
       " (50.709269307823178, 6.8432120957632243),\n",
       " (48.956047158453813, 5.0202429122162231),\n",
       " (51.10239737593654, 6.1173455361574618),\n",
       " (50.795130421585199, 3.6295987980709978),\n",
       " (48.914805108371255, 5.3067846392270965),\n",
       " (48.113494035440482, 5.4743719015166734),\n",
       " (50.778221435223116, 4.6750069034765618),\n",
       " (49.103663149302562, 4.6759811405872274),\n",
       " (52.54629976762098, 4.0526697411991739),\n",
       " (50.349095165770954, 6.1998353028334243),\n",
       " (49.88724813253824, 5.2148343015307255),\n",
       " (49.527555245604191, 4.2134651771599403),\n",
       " (51.725405102767098, 3.7171041232713611),\n",
       " (47.756660167553775, 6.1921120358454047),\n",
       " (50.85687223500377, 6.0158271994776937),\n",
       " (50.342879696417441, 6.1164904495010326),\n",
       " (47.923173141486444, 4.0897367571044354),\n",
       " (50.026870171347937, 4.88204993455384),\n",
       " (50.322672003519195, 5.4448325387778862),\n",
       " (50.252627256034522, 3.4290912460558447),\n",
       " (52.653254967291588, 4.3013695189443002),\n",
       " (50.01952008594855, 5.5199306830965131),\n",
       " (51.480600684014597, 3.802909225378897),\n",
       " (48.71050278787397, 4.2281825775500961),\n",
       " (49.650829497080302, 5.118676174876355),\n",
       " (48.147025449173356, 3.5105628256614567),\n",
       " (49.858532415323197, 2.6953613748081322),\n",
       " (51.499316107704324, 4.6653840966566129)]"
      ]
     },
     "execution_count": 15,
     "metadata": {},
     "output_type": "execute_result"
    }
   ],
   "source": [
    "plant_inputs"
   ]
  },
  {
   "cell_type": "code",
   "execution_count": 16,
   "metadata": {
    "collapsed": true
   },
   "outputs": [],
   "source": [
    "plantA_types = [0]*NUM_INPUTS + [1]*(NUM_INPUTS*2)\n",
    "plantB_types = [1]*NUM_INPUTS + [0]*NUM_INPUTS + [1]*NUM_INPUTS\n",
    "plantC_types = [1]*(NUM_INPUTS*2) + [0]*NUM_INPUTS"
   ]
  },
  {
   "cell_type": "code",
   "execution_count": 17,
   "metadata": {},
   "outputs": [
    {
     "data": {
      "text/plain": [
       "[0,\n",
       " 0,\n",
       " 0,\n",
       " 0,\n",
       " 0,\n",
       " 0,\n",
       " 0,\n",
       " 0,\n",
       " 0,\n",
       " 0,\n",
       " 0,\n",
       " 0,\n",
       " 0,\n",
       " 0,\n",
       " 0,\n",
       " 0,\n",
       " 0,\n",
       " 0,\n",
       " 0,\n",
       " 0,\n",
       " 0,\n",
       " 0,\n",
       " 0,\n",
       " 0,\n",
       " 0,\n",
       " 0,\n",
       " 0,\n",
       " 0,\n",
       " 0,\n",
       " 0,\n",
       " 0,\n",
       " 0,\n",
       " 0,\n",
       " 0,\n",
       " 0,\n",
       " 0,\n",
       " 0,\n",
       " 0,\n",
       " 0,\n",
       " 0,\n",
       " 0,\n",
       " 0,\n",
       " 0,\n",
       " 0,\n",
       " 0,\n",
       " 0,\n",
       " 0,\n",
       " 0,\n",
       " 0,\n",
       " 0,\n",
       " 1,\n",
       " 1,\n",
       " 1,\n",
       " 1,\n",
       " 1,\n",
       " 1,\n",
       " 1,\n",
       " 1,\n",
       " 1,\n",
       " 1,\n",
       " 1,\n",
       " 1,\n",
       " 1,\n",
       " 1,\n",
       " 1,\n",
       " 1,\n",
       " 1,\n",
       " 1,\n",
       " 1,\n",
       " 1,\n",
       " 1,\n",
       " 1,\n",
       " 1,\n",
       " 1,\n",
       " 1,\n",
       " 1,\n",
       " 1,\n",
       " 1,\n",
       " 1,\n",
       " 1,\n",
       " 1,\n",
       " 1,\n",
       " 1,\n",
       " 1,\n",
       " 1,\n",
       " 1,\n",
       " 1,\n",
       " 1,\n",
       " 1,\n",
       " 1,\n",
       " 1,\n",
       " 1,\n",
       " 1,\n",
       " 1,\n",
       " 1,\n",
       " 1,\n",
       " 1,\n",
       " 1,\n",
       " 1,\n",
       " 1,\n",
       " 1,\n",
       " 1,\n",
       " 1,\n",
       " 1,\n",
       " 1,\n",
       " 1,\n",
       " 1,\n",
       " 1,\n",
       " 1,\n",
       " 1,\n",
       " 1,\n",
       " 1,\n",
       " 1,\n",
       " 1,\n",
       " 1,\n",
       " 1,\n",
       " 1,\n",
       " 1,\n",
       " 1,\n",
       " 1,\n",
       " 1,\n",
       " 1,\n",
       " 1,\n",
       " 1,\n",
       " 1,\n",
       " 1,\n",
       " 1,\n",
       " 1,\n",
       " 1,\n",
       " 1,\n",
       " 1,\n",
       " 1,\n",
       " 1,\n",
       " 1,\n",
       " 1,\n",
       " 1,\n",
       " 1,\n",
       " 1,\n",
       " 1,\n",
       " 1,\n",
       " 1,\n",
       " 1,\n",
       " 1,\n",
       " 1,\n",
       " 1,\n",
       " 1,\n",
       " 1,\n",
       " 1,\n",
       " 1,\n",
       " 1]"
      ]
     },
     "execution_count": 17,
     "metadata": {},
     "output_type": "execute_result"
    }
   ],
   "source": [
    "plantA_types"
   ]
  },
  {
   "cell_type": "code",
   "execution_count": 18,
   "metadata": {},
   "outputs": [
    {
     "data": {
      "text/plain": [
       "LogisticRegression(C=1.0, class_weight=None, dual=False, fit_intercept=True,\n",
       "          intercept_scaling=1, max_iter=100, multi_class='ovr', n_jobs=1,\n",
       "          penalty='l2', random_state=None, solver='liblinear', tol=0.0001,\n",
       "          verbose=0, warm_start=False)"
      ]
     },
     "execution_count": 18,
     "metadata": {},
     "output_type": "execute_result"
    }
   ],
   "source": [
    "modelA = linear_model.LogisticRegression()\n",
    "modelA.fit(plant_inputs, plantA_types)\n",
    "\n",
    "modelB = linear_model.LogisticRegression()\n",
    "modelB.fit(plant_inputs, plantB_types)\n",
    "\n",
    "modelC = linear_model.LogisticRegression()\n",
    "modelC.fit(plant_inputs, plantC_types)"
   ]
  },
  {
   "cell_type": "code",
   "execution_count": 21,
   "metadata": {},
   "outputs": [
    {
     "data": {
      "text/plain": [
       "<matplotlib.collections.PathCollection at 0x108ed4550>"
      ]
     },
     "execution_count": 21,
     "metadata": {},
     "output_type": "execute_result"
    }
   ],
   "source": [
    "matplotlib.pyplot.scatter(plantA_heights, plantA_widths, c=\"red\", marker=\"o\")\n",
    "matplotlib.pyplot.scatter(plantB_heights, plantB_widths, c=\"blue\", marker=\"^\")\n",
    "matplotlib.pyplot.scatter(plantC_heights, plantC_widths, c=\"yellow\", marker=\"s\")"
   ]
  },
  {
   "cell_type": "code",
   "execution_count": 22,
   "metadata": {},
   "outputs": [
    {
     "data": {
      "image/png": "[encoded data removed]",
      "text/plain": [
       "<matplotlib.figure.Figure at 0x109657860>"
      ]
     },
     "metadata": {},
     "output_type": "display_data"
    }
   ],
   "source": [
    "matplotlib.pyplot.show()"
   ]
  },
  {
   "cell_type": "code",
   "execution_count": null,
   "metadata": {
    "collapsed": true
   },
   "outputs": [],
   "source": []
  }
 ],
 "metadata": {
  "kernelspec": {
   "display_name": "Python 3",
   "language": "python",
   "name": "python3"
  },
  "language_info": {
   "codemirror_mode": {
    "name": "ipython",
    "version": 3
   },
   "file_extension": ".py",
   "mimetype": "text/x-python",
   "name": "python",
   "nbconvert_exporter": "python",
   "pygments_lexer": "ipython3",
   "version": "3.6.2"
  }
 },
 "nbformat": 4,
 "nbformat_minor": 2
}
