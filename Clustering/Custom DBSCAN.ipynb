{
 "cells": [
  {
   "cell_type": "markdown",
   "metadata": {},
   "source": [
    "# Clustering"
   ]
  },
  {
   "cell_type": "markdown",
   "metadata": {},
   "source": [
    "## Step 0: Imports & Definitions"
   ]
  },
  {
   "cell_type": "code",
   "execution_count": 1,
   "metadata": {},
   "outputs": [
    {
     "name": "stdout",
     "output_type": "stream",
     "text": [
      "Populating the interactive namespace from numpy and matplotlib\n"
     ]
    }
   ],
   "source": [
    "import pandas as pd\n",
    "import numpy as np\n",
    "import sklearn\n",
    "from sklearn.cluster import KMeans, DBSCAN\n",
    "%pylab inline"
   ]
  },
  {
   "cell_type": "code",
   "execution_count": 2,
   "metadata": {
    "collapsed": true
   },
   "outputs": [],
   "source": [
    "CCN = 0 # Define CCN, which is the Current Cluster Number."
   ]
  },
  {
   "cell_type": "markdown",
   "metadata": {},
   "source": [
    "## Step 1: Data Generation\n",
    "\n",
    "Define 3 groups of plants."
   ]
  },
  {
   "cell_type": "code",
   "execution_count": 3,
   "metadata": {
    "collapsed": true
   },
   "outputs": [],
   "source": [
    "NUM_INPUTS = 50\n",
    "PLANT_A_AVG_HEIGHT = 20.0\n",
    "PLANT_A_AVG_WIDTH = 20.0\n",
    "PLANT_B_AVG_HEIGHT = 30.0\n",
    "PLANT_B_AVG_WIDTH = 30.0\n",
    "PLANT_C_AVG_HEIGHT = 40.0\n",
    "PLANT_C_AVG_WIDTH = 40.0\n",
    "\n",
    "plantA_heights = numpy.random.normal(loc=PLANT_A_AVG_HEIGHT, size=NUM_INPUTS)\n",
    "plantA_widths = numpy.random.normal(loc=PLANT_A_AVG_WIDTH, size=NUM_INPUTS)\n",
    "\n",
    "plantB_heights = numpy.random.normal(loc=PLANT_B_AVG_HEIGHT, size=NUM_INPUTS)\n",
    "plantB_widths = numpy.random.normal(loc=PLANT_B_AVG_WIDTH, size=NUM_INPUTS)\n",
    "\n",
    "plantC_heights = numpy.random.normal(loc=PLANT_C_AVG_HEIGHT, size=NUM_INPUTS)\n",
    "plantC_widths = numpy.random.normal(loc=PLANT_C_AVG_WIDTH, size=NUM_INPUTS)\n",
    "\n",
    "plant_inputs = list(zip(numpy.append(plantA_heights, plantB_heights), numpy.append(plantA_widths, plantB_widths)))\n",
    "plantC_inputs = list(zip(plantC_heights, plantC_widths))\n",
    "plant_inputs = list(numpy.append(plant_inputs, plantC_inputs))\n",
    "\n",
    "plant_heights = list(plantA_heights) + list(plantB_heights) + list(plantC_heights)\n",
    "plant_widths = list(plantA_widths) + list(plantB_widths) + list(plantC_widths)"
   ]
  },
  {
   "cell_type": "markdown",
   "metadata": {},
   "source": [
    "### Put into a dataframe."
   ]
  },
  {
   "cell_type": "code",
   "execution_count": 4,
   "metadata": {
    "collapsed": true
   },
   "outputs": [],
   "source": [
    "dataFrame = pd.DataFrame(data=[plant_heights, plant_widths]).transpose()"
   ]
  },
  {
   "cell_type": "code",
   "execution_count": 5,
   "metadata": {
    "collapsed": true
   },
   "outputs": [],
   "source": [
    "dataFrame[dataFrame.shape[1]] = \"alone\""
   ]
  },
  {
   "cell_type": "code",
   "execution_count": 6,
   "metadata": {
    "collapsed": true
   },
   "outputs": [],
   "source": [
    "dataFrame[dataFrame.shape[1]] = \"0\""
   ]
  },
  {
   "cell_type": "code",
   "execution_count": 7,
   "metadata": {
    "collapsed": true
   },
   "outputs": [],
   "source": [
    "numColms = dataFrame.shape[1]"
   ]
  },
  {
   "cell_type": "code",
   "execution_count": 8,
   "metadata": {},
   "outputs": [
    {
     "data": {
      "text/plain": [
       "150"
      ]
     },
     "execution_count": 8,
     "metadata": {},
     "output_type": "execute_result"
    }
   ],
   "source": [
    "dataFrame.shape[0]"
   ]
  },
  {
   "cell_type": "code",
   "execution_count": 9,
   "metadata": {},
   "outputs": [
    {
     "data": {
      "text/html": [
       "<div>\n",
       "<style>\n",
       "    .dataframe thead tr:only-child th {\n",
       "        text-align: right;\n",
       "    }\n",
       "\n",
       "    .dataframe thead th {\n",
       "        text-align: left;\n",
       "    }\n",
       "\n",
       "    .dataframe tbody tr th {\n",
       "        vertical-align: top;\n",
       "    }\n",
       "</style>\n",
       "<table border=\"1\" class=\"dataframe\">\n",
       "  <thead>\n",
       "    <tr style=\"text-align: right;\">\n",
       "      <th></th>\n",
       "      <th>0</th>\n",
       "      <th>1</th>\n",
       "      <th>2</th>\n",
       "      <th>3</th>\n",
       "    </tr>\n",
       "  </thead>\n",
       "  <tbody>\n",
       "    <tr>\n",
       "      <th>0</th>\n",
       "      <td>19.659620</td>\n",
       "      <td>18.800996</td>\n",
       "      <td>alone</td>\n",
       "      <td>0</td>\n",
       "    </tr>\n",
       "    <tr>\n",
       "      <th>1</th>\n",
       "      <td>19.664889</td>\n",
       "      <td>20.789687</td>\n",
       "      <td>alone</td>\n",
       "      <td>0</td>\n",
       "    </tr>\n",
       "    <tr>\n",
       "      <th>2</th>\n",
       "      <td>19.315482</td>\n",
       "      <td>19.425965</td>\n",
       "      <td>alone</td>\n",
       "      <td>0</td>\n",
       "    </tr>\n",
       "    <tr>\n",
       "      <th>3</th>\n",
       "      <td>21.630559</td>\n",
       "      <td>21.181043</td>\n",
       "      <td>alone</td>\n",
       "      <td>0</td>\n",
       "    </tr>\n",
       "    <tr>\n",
       "      <th>4</th>\n",
       "      <td>18.354516</td>\n",
       "      <td>19.368572</td>\n",
       "      <td>alone</td>\n",
       "      <td>0</td>\n",
       "    </tr>\n",
       "  </tbody>\n",
       "</table>\n",
       "</div>"
      ],
      "text/plain": [
       "           0          1      2  3\n",
       "0  19.659620  18.800996  alone  0\n",
       "1  19.664889  20.789687  alone  0\n",
       "2  19.315482  19.425965  alone  0\n",
       "3  21.630559  21.181043  alone  0\n",
       "4  18.354516  19.368572  alone  0"
      ]
     },
     "execution_count": 9,
     "metadata": {},
     "output_type": "execute_result"
    }
   ],
   "source": [
    "dataFrame.head()"
   ]
  },
  {
   "cell_type": "code",
   "execution_count": 10,
   "metadata": {},
   "outputs": [
    {
     "data": {
      "image/png": "[encoded data removed]",
      "text/plain": [
       "<matplotlib.figure.Figure at 0x10a1ca588>"
      ]
     },
     "metadata": {},
     "output_type": "display_data"
    }
   ],
   "source": [
    "################################################################################\n",
    "# PLOT --> So we have a graph to go off of.\n",
    "################################################################################\n",
    "\n",
    "# put the generated points on the graph\n",
    "matplotlib.pyplot.scatter(plantA_heights, plantA_widths, c=\"red\", marker=\"o\")\n",
    "matplotlib.pyplot.scatter(plantB_heights, plantB_widths, c=\"blue\", marker=\"^\")\n",
    "matplotlib.pyplot.scatter(plantC_heights, plantC_widths, c=\"yellow\", marker=\"s\")\n",
    "\n",
    "matplotlib.pyplot.show()"
   ]
  },
  {
   "cell_type": "markdown",
   "metadata": {},
   "source": [
    "## Step 2: Defining our DBScan Algorithim"
   ]
  },
  {
   "cell_type": "code",
   "execution_count": 11,
   "metadata": {
    "collapsed": true
   },
   "outputs": [],
   "source": [
    "def getDist(row1, row2): # Gets the distance between two points.\n",
    "    return np.linalg.norm(row1.as_matrix()[:1]-row2.as_matrix()[:1])"
   ]
  },
  {
   "cell_type": "code",
   "execution_count": 12,
   "metadata": {
    "collapsed": true
   },
   "outputs": [],
   "source": [
    "def rowDistances(row, df): # Finds the distances between one point and every other point .\n",
    "    return df.apply(getDist, 1, row2=row)"
   ]
  },
  {
   "cell_type": "code",
   "execution_count": 13,
   "metadata": {},
   "outputs": [],
   "source": [
    "def clusterFromPoint(df, epsilon, minPoints, pointIndex): # Cluster if at least minPoints fall within epsilon of the main point.\n",
    "    df.iloc[pointIndex, numColms-1] = 1 # Set the clustering point to having been clustered.\n",
    "    distances = rowDistances(df.iloc[pointIndex], df).tolist() # Get the distances from that point.\n",
    "    posD = [] # Initialize a list of indices that are within epsilon.\n",
    "    for d in distances: # For every distance\n",
    "        if(d <= epsilon): # If that point is within epsilon of the main point.\n",
    "            posD.append(distances.index(d)) # Add the index of the new point to our list.\n",
    "    if(len(posD) >= minPoints): # If there are enough points that fall within that distance.\n",
    "        for d in posD: # Cycle through every every nearby indice.\n",
    "            df.iloc[pointIndex, numColms-2] = CCN # Add the first point to the cluster.\n",
    "            df.iloc[d, numColms-2] = CCN # Set the nearby indice to the current cluster.\n",
    "            if df.iloc[d, numColms-1] == '0': # If the nearby indice hasn't been clustered yet.\n",
    "                clusterFromPoint(df, epsilon, minPoints, d) # Cluster nearby points\n",
    "    return df # Return a clustered dataframe"
   ]
  },
  {
   "cell_type": "code",
   "execution_count": 14,
   "metadata": {},
   "outputs": [],
   "source": [
    "def dbscan(df, epsilon, minPoints): # The main DBScan algorithim\n",
    "    global CCN # Have permission to access CCN\n",
    "    currentIndex = np.random.randint(0, dataFrame.shape[0]-1) # Set the current index to a random integer.\n",
    "    nums = range(0, df.shape[0]) # Make a list of every index.\n",
    "    while len(df[df[numColms-1] == \"0\"]) > 0: # While there are still unclustered points.\n",
    "        indexNum = np.random.randint(0, len(df[df[numColms-1] == \"0\"])) # Randomly choose an unclustered index.\n",
    "        currentIndex = df.index.get_loc(df[df[numColms-1] == \"0\"].iloc[indexNum].name) # Set the current index to an index within the full range of points.\n",
    "        df = clusterFromPoint(df, epsilon, minPoints, currentIndex) # Set the dataframe after being clustered.\n",
    "        if not df.iloc[currentIndex, numColms-2] == 'alone': # If the clustered dataframe isn't alone.\n",
    "            CCN += 1 # Move on to the next cluster number.\n",
    "    return df # Return a clustered dataframe."
   ]
  },
  {
   "cell_type": "markdown",
   "metadata": {},
   "source": [
    "## Step 3: Using our algorithim"
   ]
  },
  {
   "cell_type": "code",
   "execution_count": 15,
   "metadata": {},
   "outputs": [],
   "source": [
    "df = dbscan(dataFrame, 1, 4) # Run the algorithim on our points"
   ]
  },
  {
   "cell_type": "code",
   "execution_count": 16,
   "metadata": {},
   "outputs": [
    {
     "data": {
      "image/png": "[encoded data removed]",
      "text/plain": [
       "<matplotlib.figure.Figure at 0x10a1e5f98>"
      ]
     },
     "metadata": {},
     "output_type": "display_data"
    }
   ],
   "source": [
    "colors = iter(cm.rainbow(np.linspace(0, 1, CCN))) # Define a list of different colors to color our clusters.\n",
    "for i in range(-1, CCN):\n",
    "    if i == -1: # Scatter the alone points\n",
    "        xs = df[df[numColms-2] == \"alone\"][0]\n",
    "        ys = df[df[numColms-2] == \"alone\"][1]\n",
    "        matplotlib.pyplot.scatter(xs, ys, color=\"black\")\n",
    "    else: # Scatter the clustered points\n",
    "        xs = df[df[numColms-2] == i][0]\n",
    "        ys = df[df[numColms-2] == i][1]\n",
    "        matplotlib.pyplot.scatter(xs, ys, color=next(colors))\n",
    "matplotlib.pyplot.show() # Show the scatterplot"
   ]
  }
 ],
 "metadata": {
  "kernelspec": {
   "display_name": "Python 3",
   "language": "python",
   "name": "python3"
  },
  "language_info": {
   "codemirror_mode": {
    "name": "ipython",
    "version": 3
   },
   "file_extension": ".py",
   "mimetype": "text/x-python",
   "name": "python",
   "nbconvert_exporter": "python",
   "pygments_lexer": "ipython3",
   "version": "3.6.2"
  }
 },
 "nbformat": 4,
 "nbformat_minor": 2
}
